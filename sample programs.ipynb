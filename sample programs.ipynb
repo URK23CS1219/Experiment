{
  "nbformat": 4,
  "nbformat_minor": 0,
  "metadata": {
    "colab": {
      "provenance": [],
      "authorship_tag": "ABX9TyNGxQAIq4lxMdStHWpe+1Ip",
      "include_colab_link": true
    },
    "kernelspec": {
      "name": "python3",
      "display_name": "Python 3"
    },
    "language_info": {
      "name": "python"
    }
  },
  "cells": [
    {
      "cell_type": "markdown",
      "metadata": {
        "id": "view-in-github",
        "colab_type": "text"
      },
      "source": [
        "<a href=\"https://colab.research.google.com/github/URK23CS1219/Experiment/blob/main/sample%20programs.ipynb\" target=\"_parent\"><img src=\"https://colab.research.google.com/assets/colab-badge.svg\" alt=\"Open In Colab\"/></a>"
      ]
    },
    {
      "cell_type": "code",
      "execution_count": null,
      "metadata": {
        "colab": {
          "base_uri": "https://localhost:8080/"
        },
        "id": "_BTOzP6cXOK1",
        "outputId": "8cd31558-94f7-4af1-92ed-95eec55ddd9e"
      },
      "outputs": [
        {
          "output_type": "stream",
          "name": "stdout",
          "text": [
            "{4, 10, 14, 16, 20, 23}\n"
          ]
        }
      ],
      "source": [
        "list=[10,20,23,23,14,16,4,4]\n",
        "x= set(list)\n",
        "print(x)"
      ]
    },
    {
      "cell_type": "code",
      "source": [
        "# Function to perform addition\n",
        "def add(num1, num2):\n",
        "    return num1 + num2\n",
        "\n",
        "# Function to perform subtraction\n",
        "def subtract(num1, num2):\n",
        "    return num1 - num2\n",
        "\n",
        "# Function to perform division\n",
        "def divide(num1, num2):\n",
        "    # Check if the divisor is not zero\n",
        "    if num2 != 0:\n",
        "        return num1 / num2\n",
        "    else:\n",
        "        return \"Error: Division by zero\"\n",
        "\n",
        "# Function to perform multiplication\n",
        "def multiply(num1, num2):\n",
        "    return num1 * num2\n",
        "\n",
        "# Main function to take user input and perform the operation\n",
        "def calculator():\n",
        "    # Take user input for numbers and operation\n",
        "    num1 = float(input(\"Enter the number 1: \"))\n",
        "    num2 = float(input(\"Enter the number 2: \"))\n",
        "    operation = input(\"Enter the operation (+, -, //, *): \")\n",
        "\n",
        "    # Perform the operation based on user input\n",
        "    if operation == '+':\n",
        "        result = add(num1, num2)\n",
        "    elif operation == '-':\n",
        "        result = subtract(num1, num2)\n",
        "    elif operation == '/':\n",
        "        result = divide(num1, num2)\n",
        "    elif operation == '*':\n",
        "        result = multiply(num1, num2)\n",
        "    else:\n",
        "        result = \"Invalid operation\"\n",
        "\n",
        "    # Print the result\n",
        "    print(\"Result:\", result)\n",
        "\n",
        "# Call the calculator function to start the program\n",
        "calculator()\n"
      ],
      "metadata": {
        "colab": {
          "base_uri": "https://localhost:8080/"
        },
        "id": "lpgMyUaXYTh3",
        "outputId": "f8def293-5fb4-4901-a729-d0a3399beb2b"
      },
      "execution_count": null,
      "outputs": [
        {
          "output_type": "stream",
          "name": "stdout",
          "text": [
            "Enter the number 1: 12\n",
            "Enter the number 2: 4\n",
            "Enter the operation (+, -, //, *): *\n",
            "Result: 48.0\n"
          ]
        }
      ]
    },
    {
      "cell_type": "code",
      "source": [
        "def filter_words_starting_with_vowel(word_list, vowel):\n",
        "    filtered_words = [word for word in word_list if word.lower().startswith(vowel.lower())]\n",
        "    return filtered_words\n",
        "\n",
        "def main():\n",
        "    # Take input words from the user\n",
        "    words_input = input(\"Enter the words separated by space: \")\n",
        "    words_list = words_input.split()\n",
        "\n",
        "    # Take input for the vowel\n",
        "    vowel = input(\"Enter the vowel letter: \")\n",
        "\n",
        "    # Filter words starting with the given vowel\n",
        "    filtered_words = filter_words_starting_with_vowel(words_list, vowel)\n",
        "\n",
        "    # Display the filtered words\n",
        "    print(\"Words starting with the vowel\", vowel + \":\")\n",
        "    for word in filtered_words:\n",
        "        print(word)\n",
        "\n",
        "if __name__ == \"__main__\":\n",
        "    main()\n"
      ],
      "metadata": {
        "colab": {
          "base_uri": "https://localhost:8080/"
        },
        "id": "vj0KZHNWYf4k",
        "outputId": "07eb8b15-4316-4fe6-f823-c91bc3604a70"
      },
      "execution_count": null,
      "outputs": [
        {
          "output_type": "stream",
          "name": "stdout",
          "text": [
            "Enter the words separated by space: moren\n",
            "Enter the vowel letter: e\n",
            "Words starting with the vowel e:\n"
          ]
        }
      ]
    },
    {
      "cell_type": "code",
      "source": [
        "# Create the Products dictionary\n",
        "products = {\n",
        "    \"TV\": 400,\n",
        "    \"DVD\": 10,\n",
        "    \"Memory Card\": 20,\n",
        "    \"Pen Drive\": 100\n",
        "}\n",
        "\n",
        "# Create the Stock dictionary\n",
        "stock = {\n",
        "    \"TV\": 2,\n",
        "    \"DVD\": 5,\n",
        "    \"Memory Card\": 6,\n",
        "    \"Pen Drive\": 3,\n",
        "    \"Pen\":4\n",
        "}\n",
        "\n",
        "# Initialize the total revenue variable\n",
        "total_revenue = 0\n",
        "\n",
        "# Loop through the Products dictionary and calculate the total revenue\n",
        "for product, price in products.items():\n",
        "    quantity = stock.get(product, 0)  # Get the quantity from the Stock dictionary, default to 0 if not found\n",
        "    revenue = price * quantity\n",
        "    print(f\"Revenue from selling {product}: {revenue}\")\n",
        "    total_revenue += revenue\n",
        "\n",
        "# Print the total revenue\n",
        "print(\"Total revenue:\", total_revenue)\n"
      ],
      "metadata": {
        "colab": {
          "base_uri": "https://localhost:8080/"
        },
        "id": "nGOBXYxdc1vQ",
        "outputId": "37e5a04b-66a0-47e1-eebe-84393a0bde93"
      },
      "execution_count": null,
      "outputs": [
        {
          "output_type": "stream",
          "name": "stdout",
          "text": [
            "Revenue from selling TV: 800\n",
            "Revenue from selling DVD: 50\n",
            "Revenue from selling Memory Card: 120\n",
            "Revenue from selling Pen Drive: 300\n",
            "Total revenue: 1270\n"
          ]
        }
      ]
    },
    {
      "cell_type": "code",
      "source": [
        "def sum_of_digits(number):\n",
        "    # Initialize the sum\n",
        "    total = 0\n",
        "\n",
        "    # Iterate through each digit of the number\n",
        "    while number > 0:\n",
        "        # Extract the last digit of the number\n",
        "        digit = number % 10\n",
        "\n",
        "        # Add the digit to the total\n",
        "        total += digit\n",
        "\n",
        "        # Remove the last digit from the number\n",
        "        number //= 10\n",
        "\n",
        "    return total\n",
        "\n",
        "number = int(input(\"Enter a number: \"))\n",
        "\n",
        "# Calculate the sum of digits\n",
        "result = sum_of_digits(number)\n",
        "print(\"Sum of digits:\", result)\n"
      ],
      "metadata": {
        "colab": {
          "base_uri": "https://localhost:8080/"
        },
        "id": "yDaLyEf9dnuI",
        "outputId": "d7ec9e1e-89bd-4b96-868c-f393a518007a"
      },
      "execution_count": null,
      "outputs": [
        {
          "output_type": "stream",
          "name": "stdout",
          "text": [
            "Enter a number: 23456\n",
            "Sum of digits: 20\n"
          ]
        }
      ]
    },
    {
      "cell_type": "code",
      "source": [
        "def find_multiples_of_2_and_8(numbers):\n",
        "    multiples = []\n",
        "    for num in numbers:\n",
        "        if num % 2 == 0 and num % 8 == 0:\n",
        "            multiples.append(num)\n",
        "    return multiples\n",
        "\n",
        "# Read 10 integer numbers as input and store them in a list\n",
        "numbers = []\n",
        "for i in range(5):\n",
        "    num = int(input(f\"Enter number {i+1}: \"))\n",
        "    numbers.append(num)\n",
        "\n",
        "# Find numbers that are multiples of both 2 and 8\n",
        "result = find_multiples_of_2_and_8(numbers)\n",
        "\n",
        "# Display the multiples in a list format\n",
        "print(\"Numbers that are multiples of both 2 and 8:\")\n",
        "print(result)\n",
        "\n"
      ],
      "metadata": {
        "colab": {
          "base_uri": "https://localhost:8080/"
        },
        "id": "mWIHhy8PePeO",
        "outputId": "cb86b3f3-bf7d-4a5d-ab62-35aa36a1343a"
      },
      "execution_count": null,
      "outputs": [
        {
          "output_type": "stream",
          "name": "stdout",
          "text": [
            "Enter number 1: 25\n",
            "Enter number 2: 22\n",
            "Enter number 3: 24\n",
            "Enter number 4: 16\n",
            "Enter number 5: 10\n",
            "Numbers that are multiples of both 2 and 8:\n",
            "[24, 16]\n"
          ]
        }
      ]
    },
    {
      "cell_type": "code",
      "source": [
        "def count_letters_and_digits(sentence):\n",
        "    # Initialize counts\n",
        "    letter_count = 0\n",
        "    digit_count = 0\n",
        "\n",
        "    # Iterate through each character in the sentence\n",
        "    for char in sentence:\n",
        "        if char.isalpha():  # Check if the character is a letter\n",
        "            letter_count += 1\n",
        "        elif char.isdigit():  # Check if the character is a digit\n",
        "            digit_count += 1\n",
        "\n",
        "    return letter_count, digit_count\n",
        "\n",
        "# Input sentence from the user\n",
        "sentence = input(\"Enter a sentence: \")\n",
        "\n",
        "# Calculate the number of letters and digits\n",
        "letter_count, digit_count = count_letters_and_digits(sentence)\n",
        "\n",
        "# Print the result\n",
        "print(\"LETTERS\", letter_count)\n",
        "print(\"DIGITS\", digit_count)\n"
      ],
      "metadata": {
        "colab": {
          "base_uri": "https://localhost:8080/"
        },
        "id": "5CPhY4xaehp_",
        "outputId": "45c117f2-b8a9-443f-ab15-32a84e183ffe"
      },
      "execution_count": null,
      "outputs": [
        {
          "output_type": "stream",
          "name": "stdout",
          "text": [
            "Enter a sentence: moren1213\n",
            "LETTERS 5\n",
            "DIGITS 4\n"
          ]
        }
      ]
    },
    {
      "cell_type": "code",
      "source": [
        "class Student:\n",
        "    def __init__(self, regno, name, cgpa):\n",
        "        self.regno = regno\n",
        "        self.name = name\n",
        "        self.cgpa = cgpa\n",
        "\n",
        "    def get_regno(self):\n",
        "        return self.regno\n",
        "\n",
        "    def set_regno(self, regno):\n",
        "        self.regno = regno\n",
        "\n",
        "    def get_name(self):\n",
        "        return self.name\n",
        "\n",
        "    def set_name(self, name):\n",
        "        self.name = name\n",
        "\n",
        "    def get_cgpa(self):\n",
        "        return self.cgpa\n",
        "\n",
        "    def set_cgpa(self, cgpa):\n",
        "        self.cgpa = cgpa\n",
        "\n",
        "    def generate_report(self):\n",
        "        report = f\"Registration Number: {self.regno}\\nName: {self.name}\\nCGPA: {self.cgpa}\"\n",
        "        return report\n",
        "\n",
        "# Create two Student objects\n",
        "student1 = Student(\"1001\", \"Alice\", 3.8)\n",
        "student2 = Student(\"1002\", \"Bob\", 3.5)\n",
        "\n",
        "# Display reports for both students\n",
        "print(\"Report for Student 1:\")\n",
        "print(student1.generate_report())\n",
        "print(\"\\nReport for Student 2:\")\n",
        "print(student2.generate_report())\n"
      ],
      "metadata": {
        "colab": {
          "base_uri": "https://localhost:8080/"
        },
        "id": "NAm3YOBAfFjH",
        "outputId": "e9489b03-e5b9-473c-81a3-cb4520f69586"
      },
      "execution_count": null,
      "outputs": [
        {
          "output_type": "stream",
          "name": "stdout",
          "text": [
            "Report for Student 1:\n",
            "Registration Number: 1001\n",
            "Name: Alice\n",
            "CGPA: 3.8\n",
            "\n",
            "Report for Student 2:\n",
            "Registration Number: 1002\n",
            "Name: Bob\n",
            "CGPA: 3.5\n"
          ]
        }
      ]
    },
    {
      "cell_type": "code",
      "source": [
        "def sum_of_digits(number):\n",
        "    total=0\n",
        "    while number>0:\n",
        "        digit= number%10\n",
        "        total +=digit\n",
        "        number //=10\n",
        "    return total\n",
        "number= int(input(\"enter the number\"))\n",
        "result= sum_of_digits(number)\n",
        "print(\"sum of numbers\",result)\n"
      ],
      "metadata": {
        "colab": {
          "base_uri": "https://localhost:8080/"
        },
        "id": "QKxzPn91O0nc",
        "outputId": "0749f87c-f85f-45ce-a83f-2b4753e37c66"
      },
      "execution_count": null,
      "outputs": [
        {
          "output_type": "stream",
          "name": "stdout",
          "text": [
            "enter the number12345\n",
            "sum of numbers 15\n"
          ]
        }
      ]
    },
    {
      "cell_type": "code",
      "source": [
        "def analyze(file_path):\n",
        "  word_count=0\n",
        "  space_count=0\n",
        "  alphabet_count=0\n",
        "  digit_count=0\n",
        "\n",
        "  with open(file_path,'r')as file:\n",
        "    for line in file:\n",
        "      for char in line:\n",
        "        if char.isalpha():\n",
        "          alphabet_count +=1\n",
        "        elif char.isdigit():\n",
        "          digit_count +=1\n",
        "        elif char=='':\n",
        "          space_count +=1\n",
        "\n",
        "  words= line.split()\n",
        "  word_count += len(words)\n",
        "\n",
        "  return word_count,space_count,alphabet_count,digit_count\n",
        "\n",
        "file_path =\"\"\n",
        "word_count,space_count,alphabet_count,digit_count = analyze(file_path)\n",
        "\n",
        "print(\"words\",word_count)\n",
        "print(\"space\", space_count)\n",
        "print(\"alphaber\", alphabet_count)\n",
        "print(\"digit\", digit_count)\n",
        "\n",
        "\n"
      ],
      "metadata": {
        "id": "1hO4yuUmQnu9"
      },
      "execution_count": null,
      "outputs": []
    },
    {
      "cell_type": "code",
      "source": [
        "from PIL import Image\n",
        "from PIL import ImageFilter\n",
        "\n",
        "img= Image.open()\n",
        "img.show()\n",
        "width= img.width\n",
        "height= img.height\n",
        "print(\"img height\",height)\n",
        "print(\"img width\",width)\n",
        "hei= height//2\n",
        "wid= width//2\n",
        "newimg= img.resize((hei,wid))\n",
        "newimg.show()\n",
        "\n",
        "nimg= img.resize(50,60)\n",
        "nimg.show()\n",
        "\n",
        "area= (60,50,80,120)\n",
        "cimg= img.crop(area)\n",
        "\n",
        "bwimg= img.convert(\"L\")\n",
        "bwimg.show()\n",
        "rimg= img.rotate(145)\n",
        "rimg.show()\n",
        "\n",
        "limg= img.transpose(Image.FLIP_TOP_BOTTOM)\n",
        "limg.show()\n",
        "\n",
        "fimg= img.transpose(Image.FLIP_LEFT_RIGHT)\n",
        "fimg.show()\n",
        "\n",
        "bimg= img.convert(\"LA\")\n",
        "bimg.show()\n",
        "\n",
        "blurimg= img.filter(ImageFilter.GaussianBlur(radius=8))\n",
        "blurimg.show()\n"
      ],
      "metadata": {
        "id": "_PM_ljpw6BfR"
      },
      "execution_count": null,
      "outputs": []
    }
  ]
}