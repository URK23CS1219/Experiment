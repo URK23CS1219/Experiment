{
  "nbformat": 4,
  "nbformat_minor": 0,
  "metadata": {
    "colab": {
      "provenance": [],
      "include_colab_link": true
    },
    "kernelspec": {
      "name": "python3",
      "display_name": "Python 3"
    },
    "language_info": {
      "name": "python"
    }
  },
  "cells": [
    {
      "cell_type": "markdown",
      "metadata": {
        "id": "view-in-github",
        "colab_type": "text"
      },
      "source": [
        "<a href=\"https://colab.research.google.com/github/URK23CS1219/Experiment/blob/python/python1.ipynb\" target=\"_parent\"><img src=\"https://colab.research.google.com/assets/colab-badge.svg\" alt=\"Open In Colab\"/></a>"
      ]
    },
    {
      "cell_type": "code",
      "execution_count": 1,
      "metadata": {
        "id": "Vf-4TomrTIPA",
        "outputId": "206faa39-b2a7-46b4-b6d8-4e7be073260d",
        "colab": {
          "base_uri": "https://localhost:8080/"
        }
      },
      "outputs": [
        {
          "output_type": "stream",
          "name": "stdout",
          "text": [
            "Enter a string: “Even if the world is cruel, even if all I have is loneliness, I’ll still live with everything I’ve got. Even if this emotion is all I have, I’ll keep struggling.”\n",
            "Number of uppercase letters: 7\n",
            "Number of lowercase letters: 116\n",
            "Number of whitespaces: 30\n"
          ]
        }
      ],
      "source": [
        "\n",
        "def count_uppercase(s):\n",
        "    return sum(1 for c in s if c.isupper())\n",
        "\n",
        "def count_lowercase(s):\n",
        "    return sum(1 for c in s if c.islower())\n",
        "\n",
        "def count_whitespace(s):\n",
        "    return sum(1 for c in s if c.isspace())\n",
        "\n",
        "string = input(\"Enter a string: \")\n",
        "\n",
        "print(f\"Number of uppercase letters: {count_uppercase(string)}\")\n",
        "\n",
        "print(f\"Number of lowercase letters: {count_lowercase(string)}\")\n",
        "\n",
        "print(f\"Number of whitespaces: {count_whitespace(string)}\")"
      ]
    },
    {
      "cell_type": "code",
      "source": [],
      "metadata": {
        "id": "bsC03W2H91-G"
      },
      "execution_count": null,
      "outputs": []
    }
  ]
}